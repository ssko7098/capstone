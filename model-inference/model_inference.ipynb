{
 "cells": [
  {
   "cell_type": "markdown",
   "metadata": {},
   "source": [
    "# Model Inference"
   ]
  },
  {
   "cell_type": "markdown",
   "metadata": {},
   "source": [
    "To test our models, first create a new directory which will be your 'testing environment'. For example, lets call it testing\n",
    "\n",
    "Next create a .py file that will run the validation script. You can name this whatever you'd like. \n",
    "\n",
    "To start off the file, define the following imports:"
   ]
  },
  {
   "cell_type": "code",
   "execution_count": null,
   "metadata": {},
   "outputs": [],
   "source": [
    "from ultralytics import YOLO\n",
    "import matplotlib.pyplot as plt\n",
    "import cv2"
   ]
  },
  {
   "cell_type": "markdown",
   "metadata": {},
   "source": [
    "### Download model from [root README](../README.md) and place into your testing directory"
   ]
  },
  {
   "cell_type": "markdown",
   "metadata": {},
   "source": [
    "Choose a model from the table and download the weights, it should be a .pt file."
   ]
  },
  {
   "cell_type": "code",
   "execution_count": null,
   "metadata": {},
   "outputs": [],
   "source": [
    "# Ensure model is located in testing directory\n",
    "model = YOLO('~/testing/model_name.pt') # Change the path to the path of the model you want to use"
   ]
  },
  {
   "cell_type": "markdown",
   "metadata": {},
   "source": [
    "*It makes it a lot easier to have all the files in the same directory, although if you wish to save it elsewhere, just ensure you copy the correct, complete path.*"
   ]
  },
  {
   "cell_type": "markdown",
   "metadata": {},
   "source": [
    "### Model results using sample images"
   ]
  },
  {
   "cell_type": "markdown",
   "metadata": {},
   "source": [
    "Define a list of the sample images that will be used to test the model. Ensure to wrap the list in model() to be compatible with YOLO.\n",
    "\n",
    "Similarly with the model .pt file, it's easier to have the images in the testing directory to reduce path size and ensure consistency. Although, if they are saved elsewhere, ensure the path is correct.\n",
    "\n",
    "It is ok to use absolute paths as this is just testing a few images."
   ]
  },
  {
   "cell_type": "code",
   "execution_count": null,
   "metadata": {},
   "outputs": [],
   "source": [
    "model_results = model([\"test-images/img_1.jpg\", \n",
    "                        \"test-images/img_2.jpg\", \n",
    "                        \"test-images/img_3.jpg\"])"
   ]
  },
  {
   "cell_type": "markdown",
   "metadata": {},
   "source": [
    "### Model Inference"
   ]
  },
  {
   "cell_type": "markdown",
   "metadata": {},
   "source": [
    "The below code is where the inference actually occurs. Once you run the file, the results will display on screen and you are able to click through them by closing them after viewing them, then the next one will display."
   ]
  },
  {
   "cell_type": "code",
   "execution_count": null,
   "metadata": {},
   "outputs": [],
   "source": [
    "for result in model_results:\n",
    "    img_with_boxes = result.plot()\n",
    "    img_with_boxes_rgb = cv2.cvtColor(img_with_boxes, cv2.COLOR_BGR2RGB)\n",
    "    \n",
    "    plt.figure(figsize=(10, 10))\n",
    "    plt.imshow(img_with_boxes_rgb)\n",
    "    plt.axis('off')\n",
    "    plt.show()"
   ]
  }
 ],
 "metadata": {
  "language_info": {
   "name": "python"
  }
 },
 "nbformat": 4,
 "nbformat_minor": 2
}
