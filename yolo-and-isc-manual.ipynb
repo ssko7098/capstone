{
  "metadata": {
    "kernelspec": {
      "name": "python",
      "display_name": "Python (Pyodide)",
      "language": "python"
    },
    "language_info": {
      "codemirror_mode": {
        "name": "python",
        "version": 3
      },
      "file_extension": ".py",
      "mimetype": "text/x-python",
      "name": "python",
      "nbconvert_exporter": "python",
      "pygments_lexer": "ipython3",
      "version": "3.8"
    }
  },
  "nbformat_minor": 4,
  "nbformat": 4,
  "cells": [
    {
      "cell_type": "markdown",
      "source": "# Manual for Setting up YOLO with Strong Compute's ISC\nThis guide was created to help setup YOLO with Strong Compute's ISC for our Capstone unit in Semester 2, 2024. I will also provide a guide on how to access the dataset provided by the client and use it to train a model.  \n\n**Disclaimer:** Some of the following code was appropriated from a template provided by Martin Ong on the #strong-isc channel on Discord.",
      "metadata": {}
    },
    {
      "cell_type": "markdown",
      "source": "## Step 1: Mounting the Dataset\nBefore starting the container on Strong Compute's website, ensure that you have mounted the data so that you can access it. Follow the guide [here](https://strong-compute.gitbook.io/developer-docs/basics/datasets) to see how to mount the data but also how to access the data in your training script.  \n\n**NOTE**: don't worry if you can't see the `/data` folder in your workspace - it's actually located in a different parent directory from the `/root` directory that we are all working in. I'll explain in a later step how we can access it for training and validation.",
      "metadata": {},
      "attachments": {}
    },
    {
      "cell_type": "markdown",
      "source": "## Step 2: Setup a new Virtual Env\nBefore we begin actually writing the code, it's important that we setup a new virtual environment to play around in. ",
      "metadata": {}
    },
    {
      "cell_type": "code",
      "source": "cd ~\npython3 -m virtualenv ~/.test_run # replace 'test_run' with whatever you want to name your new virtual env\nsource ~/.test_run/bin/activate # again, remember to replace 'test_run' with the name of your virtual env",
      "metadata": {
        "trusted": true
      },
      "outputs": [
        {
          "ename": "<class 'SyntaxError'>",
          "evalue": "invalid syntax (<ipython-input-7-8a7cac5e9316>, line 1)",
          "traceback": [
            "\u001b[0;36m  Cell \u001b[0;32mIn[7], line 1\u001b[0;36m\u001b[0m\n\u001b[0;31m    cd ~\u001b[0m\n\u001b[0m       ^\u001b[0m\n\u001b[0;31mSyntaxError\u001b[0m\u001b[0;31m:\u001b[0m invalid syntax\n"
          ],
          "output_type": "error"
        }
      ],
      "execution_count": 7
    },
    {
      "cell_type": "markdown",
      "source": "Once you've activated the virtual environment, you need to download the relevant python packages that we'll be using for our YOLO model. These are:\n* Ultralytics; and\n* PyTorch.",
      "metadata": {}
    },
    {
      "cell_type": "code",
      "source": "pip install ultralytics torch",
      "metadata": {
        "trusted": true
      },
      "outputs": [],
      "execution_count": null
    },
    {
      "cell_type": "markdown",
      "source": "## Step 3: YOLO Script\nNow that you've activated your virtual environment and downloaded the required package, it's time to write our python `train.py` script and the relevant `.isc` script which contains all the information that the ISC needs to run it. \n\n### Step 3.1 Training Script\nCreate a new file called `train.py`. This will contain all the code for our training script. Copy and paste the following code, remembering to **replace the commented parts with your own directories**",
      "metadata": {}
    },
    {
      "cell_type": "code",
      "source": "## train.py\nimport os\nimport torch\nfrom ultralytics import YOLO\nfrom torch.utils.data import DataLoader, RandomSampler\n\ndef main():\n    if os.environ.get('OUTPUT_PATH'):\n        output_path = f\"{os.environ.get('OUTPUT_PATH')}/log.txt\"\n        output_file = open(output_path, \"w\")\n    else:\n        output_path = None\n\n    os.chdir('/root/seb-test-run') # Replace 'seb-test-run' with whatever your directory is\n\n    path = os.getcwd()\n\n    # Create a directory called 'models' which contains the pre-trained YOLOv8 model\n    model_path = os.path.join(path, \"models\", \"yolov8n.pt\")\n\n    # Create a directory called 'misc' which contains the test image. This line is optional\n    image_path = os.path.join(path, \"misc\", \"test_image.jpg\")\n\n    device = 'cuda' if torch.cuda.is_available() else 'cpu'\n    model = YOLO(model_path).to(device)\n    \n    # Modify the model's trainer to use RandomSampler\n    trainer = model.trainer\n    train_dataset = trainer.train_loader.dataset  # Get the original training dataset\n\n    # Create a new DataLoader with RandomSampler\n    train_loader = DataLoader(train_dataset, \n                              sampler=RandomSampler(train_dataset),\n                              batch_size=trainer.train_loader.batch_size,\n                              num_workers=trainer.train_loader.num_workers)\n\n    # Replace the trainer's train_loader with the new DataLoader\n    trainer.train_loader = train_loader\n\n    # Now proceed with training\n    results = model.train(data=\"data.yaml\", \n                          epochs=3, \n                          imgsz=1024)\n\n    results = model(image_path)  # predict on an image\n    for result in results:\n        result.show()  # display to screen\n\n\nif __name__ == \"__main__\":\n    main()\n",
      "metadata": {
        "trusted": true
      },
      "outputs": [
        {
          "ename": "<class 'ModuleNotFoundError'>",
          "evalue": "No module named 'torch'",
          "traceback": [
            "\u001b[0;31m---------------------------------------------------------------------------\u001b[0m",
            "\u001b[0;31mModuleNotFoundError\u001b[0m                       Traceback (most recent call last)",
            "Cell \u001b[0;32mIn[1], line 2\u001b[0m\n\u001b[1;32m      1\u001b[0m \u001b[38;5;28;01mimport\u001b[39;00m \u001b[38;5;21;01mos\u001b[39;00m\n\u001b[0;32m----> 2\u001b[0m \u001b[38;5;28;01mimport\u001b[39;00m \u001b[38;5;21;01mtorch\u001b[39;00m\n\u001b[1;32m      3\u001b[0m \u001b[38;5;28;01mfrom\u001b[39;00m \u001b[38;5;21;01multralytics\u001b[39;00m \u001b[38;5;28;01mimport\u001b[39;00m YOLO\n\u001b[1;32m      4\u001b[0m \u001b[38;5;28;01mfrom\u001b[39;00m \u001b[38;5;21;01mtorch\u001b[39;00m\u001b[38;5;21;01m.\u001b[39;00m\u001b[38;5;21;01mutils\u001b[39;00m\u001b[38;5;21;01m.\u001b[39;00m\u001b[38;5;21;01mdata\u001b[39;00m \u001b[38;5;28;01mimport\u001b[39;00m DataLoader, RandomSampler\n",
            "\u001b[0;31mModuleNotFoundError\u001b[0m: No module named 'torch'"
          ],
          "output_type": "error"
        }
      ],
      "execution_count": 1
    },
    {
      "cell_type": "markdown",
      "source": "### Step 3.2 Updating the TOML File\nA TOML file basically communicates important information about your experiment to the ISC. Create a file called `test-run.isc` and place the following lines inside. It's important that you replace:\n* **isc_project_id** with your own project ID. This is found on the Strong Compute dashboard.\n* **experiment_name [Optional]** with whatever name you want to call your experiment.\n* **dataset_id** with the dataset ID. This is also found on the Strong Compute dashboard.\n* **command** with the directories to your training script. i.e., command = \"source ~/\\<virtual env>/venv/bin/activate && python3 ~/\\<path to training script>\".",
      "metadata": {}
    },
    {
      "cell_type": "code",
      "source": "\"\"\"\nisc_project_id = <Project_Id>\nexperiment_name = \"CUDA test\"\ngpu_type = \"24GB VRAM GPU\"\ngpus = 1\noutput_path = \"~/outputs/cuda_test\"\ncompute_mode = \"cycle\"\ndataset_id = \"<your-dataset-id>\"\ncommand = \"source ~/test_run/venv/bin/activate && python3 ~/test_run/train.py\"\n\"\"\"",
      "metadata": {
        "trusted": true
      },
      "outputs": [
        {
          "execution_count": 6,
          "output_type": "execute_result",
          "data": {
            "text/plain": "'\\nisc_project_id = <Project_Id>\\nexperiment_name = \"CUDA test\"\\ngpu_type = \"24GB VRAM GPU\"\\ngpus = 1\\noutput_path = \"~/outputs/cuda_test\"\\ncompute_mode = \"cycle\"\\ncommand = \"source ~/test_run/venv/bin/activate && python3 ~/test_run/src/train.py\"\\n'"
          },
          "metadata": {}
        }
      ],
      "execution_count": 6
    },
    {
      "cell_type": "markdown",
      "source": "## Step 4: Accessing the Data\nNow that we have the training script set up and the relevant `.isc` file, we need to ensure that our YOLO model can actually access the data for training. As I mentioned earlier, the `/data` folder is located in a different parent directory which we actually can't edit, so we need to create a separate `fmg_data.yaml` file in our own directory which tells the YOLO compiler where to look for the data. This is because the original `fmg_data.yaml` file located inside the `/data/fmg_data` directory tells the YOLO compiler to look in `/home/calvin/fmg_data/` for the training and validation images, but this is incorrect.\n\nTo fix this issue, copy the `fmg_data.yaml` file into the same directory as your python training script and replace the `path` variable with `/data/fmg_data` as seen in the below. The reason for this is so that we can tell our python script in step 3.1 which `.yaml` file to access so that it correctly locates the data. **[Optional]** You can also specify in which directory you want YOLO to store the output files.",
      "metadata": {}
    },
    {
      "cell_type": "code",
      "source": "# fmg_data.yaml\npath: /data/fmg_data\ntrain: train\nval: val\n\n# Specify the output directory\noutput_dir: <desired output path>\n\nnames:\n  0: Moxy\n  1: Haul Truck\n  2: Front End Loader\n  3: Excavator\n  4: Crane\n  5: Franna\n  6: Scissor Lift\n  7: Elevated Work Platform\n  8: Drum Roller\n  9: Bus\n  10: Bobcat\n  11: Drill Rig\n  12: Cone\n  13: Person\n  14: Light Vehicle\n  15: Water Truck\n  16: Grader\n  17: Fork Lift\n",
      "metadata": {
        "trusted": true
      },
      "outputs": [],
      "execution_count": null
    },
    {
      "cell_type": "markdown",
      "source": "You may also need to update the directory that YOLO looks for the data in. When the ultralytics package is downloaded using pip, it creates a settings file located in `/root/.config/Ultralytics/settings.yaml` which tells the YOLO package where to look for the data. The problem is that by default it tells the YOLO package to look inside a `datasets` folder inside wherever directory it was installed in. This directory doesn't exist for us though, so if you try to run the training script as it is, you might receive an error that looks something like this:",
      "metadata": {}
    },
    {
      "cell_type": "code",
      "source": "# Error message\nUltralytics YOLOv8.2.81 🚀 Python-3.10.12 torch-2.4.0+cu121 CUDA:0 (NVIDIA GeForce RTX 3090 Ti, 24241MiB)\nTraceback (most recent call last):\n  File \"/root/.first_train/lib/python3.10/site-packages/ultralytics/engine/trainer.py\", line 531, in get_dataset\n    data = check_det_dataset(self.args.data)\n  File \"/root/.first_train/lib/python3.10/site-packages/ultralytics/data/utils.py\", line 329, in check_det_dataset\n    raise FileNotFoundError(m)\nFileNotFoundError: \nDataset '/data/fmg_data/fmg_data.yaml' images not found ⚠️, missing path '/home/calvin/fmg_data/val'\nNote dataset download directory is '/root/seb-test-run/datasets'. You can update this in '/root/.config/Ultralytics/settings.yaml'\n\nThe above exception was the direct cause of the following exception:\n\nTraceback (most recent call last):\n  File \"/root/seb-test-run/train.py\", line 33, in <module>\n    main()\n  File \"/root/seb-test-run/train.py\", line 22, in main\n    results = model.train(data=data_path, \n  File \"/root/.first_train/lib/python3.10/site-packages/ultralytics/engine/model.py\", line 807, in train\n    self.trainer = (trainer or self._smart_load(\"trainer\"))(overrides=args, _callbacks=self.callbacks)\n  File \"/root/.first_train/lib/python3.10/site-packages/ultralytics/engine/trainer.py\", line 134, in __init__\n    self.trainset, self.testset = self.get_dataset()\n  File \"/root/.first_train/lib/python3.10/site-packages/ultralytics/engine/trainer.py\", line 535, in get_dataset\n    raise RuntimeError(emojis(f\"Dataset '{clean_url(self.args.data)}' error ❌ {e}\")) from e\nRuntimeError: Dataset '/data/fmg_data/fmg_data.yaml' error ❌ \nDataset '/data/fmg_data/fmg_data.yaml' images not found ⚠️, missing path '/home/calvin/fmg_data/val'\nNote dataset download directory is '/root/seb-test-run/datasets'. You can update this in '/root/.config/Ultralytics/settings.yaml'",
      "metadata": {
        "trusted": true
      },
      "outputs": [
        {
          "ename": "<class 'SyntaxError'>",
          "evalue": "invalid character '🚀' (U+1F680) (<ipython-input-7-ba1f7fa04d86>, line 1)",
          "traceback": [
            "\u001b[0;36m  Cell \u001b[0;32mIn[7], line 1\u001b[0;36m\u001b[0m\n\u001b[0;31m    Ultralytics YOLOv8.2.81 🚀 Python-3.10.12 torch-2.4.0+cu121 CUDA:0 (NVIDIA GeForce RTX 3090 Ti, 24241MiB)\u001b[0m\n\u001b[0m                            ^\u001b[0m\n\u001b[0;31mSyntaxError\u001b[0m\u001b[0;31m:\u001b[0m invalid character '🚀' (U+1F680)\n"
          ],
          "output_type": "error"
        }
      ],
      "execution_count": 7
    },
    {
      "cell_type": "markdown",
      "source": "To fix it, open the `settings.yaml` located in `/root/.config/Ultralytics/settings.yaml` (if you're using VSCode you can do this by clicking on the search bar up the top and choosing 'go to file' and then copying and pasting this path). The file will look something like:",
      "metadata": {}
    },
    {
      "cell_type": "code",
      "source": "# settings.yaml\nsettings_version: 0.0.4\ndatasets_dir: /root/seb-test-run/datasets\nweights_dir: weights\nruns_dir: runs\n...",
      "metadata": {
        "trusted": true
      },
      "outputs": [
        {
          "ename": "<class 'SyntaxError'>",
          "evalue": "invalid syntax (<ipython-input-1-aa76fbd1c30a>, line 2)",
          "traceback": [
            "\u001b[0;36m  Cell \u001b[0;32mIn[1], line 2\u001b[0;36m\u001b[0m\n\u001b[0;31m    settings_version: 0.0.4\u001b[0m\n\u001b[0m                         ^\u001b[0m\n\u001b[0;31mSyntaxError\u001b[0m\u001b[0;31m:\u001b[0m invalid syntax\n"
          ],
          "output_type": "error"
        }
      ],
      "execution_count": 1
    },
    {
      "cell_type": "markdown",
      "source": "Just replace `/root/seb-test-run/datasets` with the directory to the `fmg_data.yaml` file that you just created.",
      "metadata": {}
    },
    {
      "cell_type": "markdown",
      "source": "## Step 5: Run an Experiment\nNow that we have set everything up and YOLO knows where to look for the data, we can train the model using YOLO.\n\nLaunch your experiment by running the following commands.",
      "metadata": {}
    },
    {
      "cell_type": "code",
      "source": "cd ~/seb-test-run\nisc train test-run.isc",
      "metadata": {
        "trusted": true
      },
      "outputs": [
        {
          "name": "stderr",
          "text": "/lib/python3.12/site-packages/IPython/core/magics/osm.py:393: UserWarning: This is now an optional IPython functionality, using bookmarks requires you to install the `pickleshare` library.\n  bkms = self.shell.db.get('bookmarks', {})\n",
          "output_type": "stream"
        },
        {
          "name": "stdout",
          "text": "[Errno 44] No such file or directory: '/home/pyodide/seb-test-run'\n/drive\n",
          "output_type": "stream"
        }
      ],
      "execution_count": 8
    },
    {
      "cell_type": "markdown",
      "source": "You can track the status of your experiment in the terminal by typing:",
      "metadata": {}
    },
    {
      "cell_type": "code",
      "source": "isc experiments",
      "metadata": {
        "trusted": true
      },
      "outputs": [],
      "execution_count": null
    },
    {
      "cell_type": "markdown",
      "source": "## Step 6: Accessing Results\nTo view the results of each experiment, check the log from the ISC experiment as YOLO will tell you where it stored the results of the training. This should by default be inside a folder named `runs` which contains subdirectories for `train1`, `train2` and so on.",
      "metadata": {}
    }
  ]
}