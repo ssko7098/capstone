{
  "cells": [
    {
      "cell_type": "markdown",
      "metadata": {},
      "source": [
        "# Manual for Setting up YOLO with Strong Compute's ISC\n",
        "This guide was created to help setup YOLO with Strong Compute's ISC for our Capstone unit in Semester 2, 2024. I will also provide a guide on how to access the dataset provided by the client and use it to train a model.  \n",
        "\n",
        "**Disclaimer:** Some of the following code was appropriated from a template provided by Martin Ong on the #strong-isc channel on Discord."
      ]
    },
    {
      "attachments": {},
      "cell_type": "markdown",
      "metadata": {},
      "source": [
        "## Step 1: Mounting the Dataset\n",
        "Before starting the container on Strong Compute's website, ensure that you have mounted the data so that you can access it. Follow the guide [here](https://strong-compute.gitbook.io/developer-docs/basics/datasets) to see how to mount the data but also how to access the data in your training script.  \n",
        "\n",
        "**NOTE**: don't worry if you can't see the `/data` folder in your workspace - it's actually located in a different parent directory from the `/root` directory that we are all working in. I'll explain in a later step how we can access it for training and validation."
      ]
    },
    {
      "cell_type": "markdown",
      "metadata": {},
      "source": [
        "## Step 2: Setup a new Virtual Env\n",
        "Before we begin actually writing the code, it's important that we setup a new virtual environment to play around in. "
      ]
    },
    {
      "cell_type": "raw",
      "metadata": {
        "trusted": true,
        "vscode": {
          "languageId": "raw"
        }
      },
      "source": [
        "cd ~\n",
        "python3 -m virtualenv ~/.test_run # replace 'test_run' with whatever you want to name your new virtual env\n",
        "source ~/.test_run/bin/activate # again, remember to replace 'test_run' with the name of your virtual env"
      ]
    },
    {
      "cell_type": "markdown",
      "metadata": {},
      "source": [
        "Once you've activated the virtual environment, you need to download the relevant python packages that we'll be using for our YOLO model. These are:\n",
        "* Ultralytics; and\n",
        "* PyTorch."
      ]
    },
    {
      "cell_type": "raw",
      "metadata": {
        "trusted": true,
        "vscode": {
          "languageId": "raw"
        }
      },
      "source": [
        "pip install ultralytics torch"
      ]
    },
    {
      "cell_type": "markdown",
      "metadata": {},
      "source": [
        "## Step 3: YOLO Script\n",
        "Now that you've activated your virtual environment and downloaded the required package, it's time to write our python `train.py` script and the relevant `.isc` script which contains all the information that the ISC needs to run it. \n",
        "\n",
        "### Step 3.1 Training Script\n",
        "Create a new file called `train.py`. This will contain all the code for our training script. Copy and paste the following code, remembering to **replace the commented parts with your own directories**"
      ]
    },
    {
      "cell_type": "code",
      "execution_count": null,
      "metadata": {
        "trusted": true
      },
      "outputs": [],
      "source": [
        "'''\n",
        "Training script 'train.py' to be used in isc\n",
        "'''\n",
        "import os\n",
        "import torch\n",
        "from ultralytics import YOLO\n",
        "\n",
        "def main():\n",
        "    '''\n",
        "    main function which sets up training paths and starts model training\n",
        "    '''\n",
        "    # if os.environ.get('OUTPUT_PATH'):\n",
        "    #     output_path = f\"{os.environ.get('OUTPUT_PATH')}/log.txt\"\n",
        "    #     output_file = open(output_path, \"w\")\n",
        "    # else:\n",
        "    #     output_path = None\n",
        "\n",
        "    os.chdir('/root/seb-test-run')\n",
        "\n",
        "    path = os.getcwd()\n",
        "    model_path = os.path.join(path, \"models\", \"yolov8n.pt\")\n",
        "    image_path = os.path.join(path, \"misc\", \"test_image.jpg\")\n",
        "\n",
        "    model = YOLO(model_path)\n",
        "    if torch.cuda.is_available():\n",
        "        device = torch.device(\"cuda:0\")\n",
        "    else:\n",
        "        device = torch.device(\"cpu\")\n",
        "\n",
        "    model.to(device)\n",
        "\n",
        "    # Start training\n",
        "    results = model.train(data=\"data.yaml\", epochs=3, imgsz=1024, device=device)\n",
        "\n",
        "    results = model(image_path)  # predict on an image\n",
        "    for result in results:\n",
        "        result.show()  # display to screen\n",
        "\n",
        "\n",
        "if __name__ == \"__main__\":\n",
        "    main()\n",
        "\n"
      ]
    },
    {
      "cell_type": "markdown",
      "metadata": {},
      "source": [
        "### Step 3.2 Updating the TOML File\n",
        "A TOML file basically communicates important information about your experiment to the ISC. Create a file called `test-run.isc` and place the following lines inside. It's important that you replace:\n",
        "* **isc_project_id** with your own project ID. This is found on the Strong Compute dashboard.\n",
        "* **experiment_name [Optional]** with whatever name you want to call your experiment.\n",
        "* **dataset_id** with the dataset ID. This is also found on the Strong Compute dashboard.\n",
        "* **command** with the directories to your training script. i.e., command = \"source ~/\\<virtual env>/venv/bin/activate && python3 ~/\\<path to training script>\"."
      ]
    },
    {
      "cell_type": "raw",
      "metadata": {
        "trusted": true,
        "vscode": {
          "languageId": "raw"
        }
      },
      "source": [
        "isc_project_id = <Project_Id>\n",
        "experiment_name = \"CUDA test\"\n",
        "gpu_type = \"24GB VRAM GPU\"\n",
        "gpus = 1\n",
        "output_path = \"~/outputs/cuda_test\"\n",
        "compute_mode = \"cycle\"\n",
        "dataset_id = \"<your-dataset-id>\"\n",
        "command = \"source ~/test_run/venv/bin/activate && python3 ~/test_run/train.py\""
      ]
    },
    {
      "cell_type": "markdown",
      "metadata": {},
      "source": [
        "## Step 4: Accessing the Data\n",
        "Now that we have the training script set up and the relevant `.isc` file, we need to ensure that our YOLO model can actually access the data for training. As I mentioned earlier, the `/data` folder is located in a different parent directory which we actually can't edit, so we need to create a separate `fmg_data.yaml` file in our own directory which tells the YOLO compiler where to look for the data. This is because the original `fmg_data.yaml` file located inside the `/data/fmg_data` directory tells the YOLO compiler to look in `/home/calvin/fmg_data/` for the training and validation images, but this is incorrect.\n",
        "\n",
        "To fix this issue, copy the `fmg_data.yaml` file into the same directory as your python training script and replace the `path` variable with `/data/fmg_data` as seen in the below. The reason for this is so that we can tell our python script in step 3.1 which `.yaml` file to access so that it correctly locates the data. **[Optional]** You can also specify in which directory you want YOLO to store the output files."
      ]
    },
    {
      "cell_type": "raw",
      "metadata": {
        "trusted": true,
        "vscode": {
          "languageId": "raw"
        }
      },
      "source": [
        "# fmg_data.yaml\n",
        "path: /data/fmg_data\n",
        "train: train\n",
        "val: val\n",
        "\n",
        "# Specify the output directory\n",
        "output_dir: <desired output path>\n",
        "\n",
        "names:\n",
        "  0: Moxy\n",
        "  1: Haul Truck\n",
        "  2: Front End Loader\n",
        "  3: Excavator\n",
        "  4: Crane\n",
        "  5: Franna\n",
        "  6: Scissor Lift\n",
        "  7: Elevated Work Platform\n",
        "  8: Drum Roller\n",
        "  9: Bus\n",
        "  10: Bobcat\n",
        "  11: Drill Rig\n",
        "  12: Cone\n",
        "  13: Person\n",
        "  14: Light Vehicle\n",
        "  15: Water Truck\n",
        "  16: Grader\n",
        "  17: Fork Lift\n"
      ]
    },
    {
      "cell_type": "markdown",
      "metadata": {},
      "source": [
        "You may also need to update the directory that YOLO looks for the data in. When the ultralytics package is downloaded using pip, it creates a settings file located in `/root/.config/Ultralytics/settings.yaml` which tells the YOLO package where to look for the data. The problem is that by default it tells the YOLO package to look inside a `datasets` folder inside wherever directory it was installed in. This directory doesn't exist for us though, so if you try to run the training script as it is, you might receive an error that looks something like this:"
      ]
    },
    {
      "cell_type": "raw",
      "metadata": {
        "trusted": true,
        "vscode": {
          "languageId": "raw"
        }
      },
      "source": [
        "# Error message\n",
        "Ultralytics YOLOv8.2.81 🚀 Python-3.10.12 torch-2.4.0+cu121 CUDA:0 (NVIDIA GeForce RTX 3090 Ti, 24241MiB)\n",
        "Traceback (most recent call last):\n",
        "  File \"/root/.first_train/lib/python3.10/site-packages/ultralytics/engine/trainer.py\", line 531, in get_dataset\n",
        "    data = check_det_dataset(self.args.data)\n",
        "  File \"/root/.first_train/lib/python3.10/site-packages/ultralytics/data/utils.py\", line 329, in check_det_dataset\n",
        "    raise FileNotFoundError(m)\n",
        "FileNotFoundError: \n",
        "Dataset '/data/fmg_data/fmg_data.yaml' images not found ⚠️, missing path '/home/calvin/fmg_data/val'\n",
        "Note dataset download directory is '/root/seb-test-run/datasets'. You can update this in '/root/.config/Ultralytics/settings.yaml'\n",
        "\n",
        "The above exception was the direct cause of the following exception:\n",
        "\n",
        "Traceback (most recent call last):\n",
        "  File \"/root/seb-test-run/train.py\", line 33, in <module>\n",
        "    main()\n",
        "  File \"/root/seb-test-run/train.py\", line 22, in main\n",
        "    results = model.train(data=data_path, \n",
        "  File \"/root/.first_train/lib/python3.10/site-packages/ultralytics/engine/model.py\", line 807, in train\n",
        "    self.trainer = (trainer or self._smart_load(\"trainer\"))(overrides=args, _callbacks=self.callbacks)\n",
        "  File \"/root/.first_train/lib/python3.10/site-packages/ultralytics/engine/trainer.py\", line 134, in __init__\n",
        "    self.trainset, self.testset = self.get_dataset()\n",
        "  File \"/root/.first_train/lib/python3.10/site-packages/ultralytics/engine/trainer.py\", line 535, in get_dataset\n",
        "    raise RuntimeError(emojis(f\"Dataset '{clean_url(self.args.data)}' error ❌ {e}\")) from e\n",
        "RuntimeError: Dataset '/data/fmg_data/fmg_data.yaml' error ❌ \n",
        "Dataset '/data/fmg_data/fmg_data.yaml' images not found ⚠️, missing path '/home/calvin/fmg_data/val'\n",
        "Note dataset download directory is '/root/seb-test-run/datasets'. You can update this in '/root/.config/Ultralytics/settings.yaml'"
      ]
    },
    {
      "cell_type": "markdown",
      "metadata": {},
      "source": [
        "To fix it, open the `settings.yaml` located in `/root/.config/Ultralytics/settings.yaml` (if you're using VSCode you can do this by clicking on the search bar up the top and choosing 'go to file' and then copying and pasting this path). The file will look something like:"
      ]
    },
    {
      "cell_type": "raw",
      "metadata": {
        "trusted": true,
        "vscode": {
          "languageId": "raw"
        }
      },
      "source": [
        "# settings.yaml\n",
        "settings_version: 0.0.4\n",
        "datasets_dir: /root/seb-test-run/datasets\n",
        "weights_dir: weights\n",
        "runs_dir: runs\n",
        "..."
      ]
    },
    {
      "cell_type": "markdown",
      "metadata": {},
      "source": [
        "Just replace `/root/seb-test-run/datasets` with the directory to the data: `/data/fmg_data/`."
      ]
    },
    {
      "cell_type": "markdown",
      "metadata": {},
      "source": [
        "## Step 5: Run an Experiment\n",
        "Now that we have set everything up and YOLO knows where to look for the data, we can train the model using YOLO.\n",
        "\n",
        "Launch your experiment by running the following commands."
      ]
    },
    {
      "cell_type": "raw",
      "metadata": {
        "trusted": true,
        "vscode": {
          "languageId": "raw"
        }
      },
      "source": [
        "cd ~/seb-test-run\n",
        "isc train test-run.isc"
      ]
    },
    {
      "cell_type": "markdown",
      "metadata": {},
      "source": [
        "You can track the status of your experiment in the terminal by typing:"
      ]
    },
    {
      "cell_type": "raw",
      "metadata": {
        "trusted": true,
        "vscode": {
          "languageId": "raw"
        }
      },
      "source": [
        "isc experiments"
      ]
    },
    {
      "cell_type": "markdown",
      "metadata": {},
      "source": [
        "## Step 6: Accessing Results\n",
        "To view the results of each experiment, check the log from the ISC experiment as YOLO will tell you where it stored the results of the training. This should by default be inside a folder named `runs` which contains subdirectories for `train1`, `train2` and so on."
      ]
    }
  ],
  "metadata": {
    "kernelspec": {
      "display_name": "Python 3",
      "language": "python",
      "name": "python3"
    },
    "language_info": {
      "codemirror_mode": {
        "name": "python",
        "version": 3
      },
      "file_extension": ".py",
      "mimetype": "text/x-python",
      "name": "python",
      "nbconvert_exporter": "python",
      "pygments_lexer": "ipython3",
      "version": "3.10.7"
    }
  },
  "nbformat": 4,
  "nbformat_minor": 4
}
