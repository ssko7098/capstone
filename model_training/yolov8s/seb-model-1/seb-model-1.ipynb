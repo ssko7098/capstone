{
 "cells": [
  {
   "cell_type": "markdown",
   "metadata": {},
   "source": [
    "## FIRST TRAINED MODEL\n",
    "This model achieved a mAP50 score of about 70%. The below steps can be followed to re-train the model. If you prefer, I've also placed the weights.pt file in the main README file if you prefer to download the model straight away."
   ]
  },
  {
   "cell_type": "markdown",
   "metadata": {},
   "source": [
    "### 1. Loading the Model\n",
    "Start by importing all the necessary modules and loading a pretrained model. This is important because we are starting with already-updated weights and biases which is shown to increase accuracy."
   ]
  },
  {
   "cell_type": "code",
   "execution_count": null,
   "metadata": {},
   "outputs": [],
   "source": [
    "from ultralytics import YOLO\n",
    "from torch.utils.data import Subset\n",
    "\n",
    "# load a pretrained model (recommended for training)\n",
    "model = YOLO('yolov8s.pt')"
   ]
  },
  {
   "cell_type": "markdown",
   "metadata": {},
   "source": [
    "### 2. Training the Model\n",
    "Then we will start training the model. \n",
    "__IMPORTANT:__ ensure the data is correctly located in a folder named *safety_rd_v1* so that the following code can correctly locate the data.\n",
    "\n",
    "We'll begin by only running 3 epochs, as this is the first model trained on CPU."
   ]
  },
  {
   "cell_type": "code",
   "execution_count": null,
   "metadata": {},
   "outputs": [],
   "source": [
    "results = model.train(data=\"safety_rd_v1/data.yaml\", \n",
    "                      epochs=3, \n",
    "                      imgsz=640)"
   ]
  },
  {
   "cell_type": "markdown",
   "metadata": {},
   "source": [
    "### 3. Validate the Model\n",
    "Next, we'll validate the model using the validation dataset which makes up around 20% of the total data. There's no need for arguments in this command, since the dataset and the settings are remembered from the previous command."
   ]
  },
  {
   "cell_type": "code",
   "execution_count": null,
   "metadata": {},
   "outputs": [],
   "source": [
    "metrics = model.val()  # no arguments needed, dataset and settings remembered"
   ]
  },
  {
   "cell_type": "markdown",
   "metadata": {},
   "source": [
    "### 4. [Optional] Test on Sample Image\n",
    "Then we'll use a sample image to check if the boxes are correctly drawn and elements are correctly identified. This is just to manually check that the model is correctly trained."
   ]
  },
  {
   "cell_type": "code",
   "execution_count": null,
   "metadata": {},
   "outputs": [],
   "source": [
    "results = model(\"safety_rd_v1/valid/images/00004_jpg.rf.c0a352e33af42bb0d917c24d539ddc9d.jpg\")  # predict on an image\n",
    "for result in results:\n",
    "    print(result.boxes)\n",
    "    result.show()  # display to screen"
   ]
  },
  {
   "cell_type": "markdown",
   "metadata": {},
   "source": [
    "### 5. Export the Model\n",
    "The final step is to export the model so that we can easily load it again and use it to make predictions. **NOTE:** without an argument, the default file type will be a .pt (PyTorch). If you would like to export to a specific file type, you can use `format=\"<file type>\"`.\n",
    "* E.g., `model.export(format=\"onnx\")` will export the model as a `.onnx` file."
   ]
  },
  {
   "cell_type": "code",
   "execution_count": null,
   "metadata": {},
   "outputs": [],
   "source": [
    "model.export()"
   ]
  }
 ],
 "metadata": {
  "kernelspec": {
   "display_name": "Python 3",
   "language": "python",
   "name": "python3"
  },
  "language_info": {
   "name": "python",
   "version": "3.10.7"
  }
 },
 "nbformat": 4,
 "nbformat_minor": 2
}
